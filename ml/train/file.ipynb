{
 "cells": [
  {
   "cell_type": "code",
   "execution_count": 15,
   "metadata": {
    "collapsed": true
   },
   "outputs": [],
   "source": [
    "import re\n",
    "import pandas as pd\n",
    "import numpy as np"
   ]
  },
  {
   "cell_type": "code",
   "execution_count": 56,
   "metadata": {
    "pycharm": {
     "name": "#%%\n"
    }
   },
   "outputs": [],
   "source": [
    "guarant_tech = pd.read_csv('guarant_tech.csv')\n",
    "guarant_user = pd.read_csv('guarant_user.csv')\n",
    "undefined_users = pd.read_csv('out.csv')"
   ]
  },
  {
   "cell_type": "code",
   "execution_count": 57,
   "metadata": {
    "pycharm": {
     "name": "#%%\n"
    }
   },
   "outputs": [],
   "source": [
    "undefined_users = undefined_users[undefined_users['target'] == 1]"
   ]
  },
  {
   "cell_type": "code",
   "execution_count": 59,
   "metadata": {
    "pycharm": {
     "name": "#%%\n"
    }
   },
   "outputs": [
    {
     "name": "stdout",
     "output_type": "stream",
     "text": [
      "(164621, 2)\n"
     ]
    },
    {
     "data": {
      "text/html": [
       "<div>\n",
       "<style scoped>\n",
       "    .dataframe tbody tr th:only-of-type {\n",
       "        vertical-align: middle;\n",
       "    }\n",
       "\n",
       "    .dataframe tbody tr th {\n",
       "        vertical-align: top;\n",
       "    }\n",
       "\n",
       "    .dataframe thead th {\n",
       "        text-align: right;\n",
       "    }\n",
       "</style>\n",
       "<table border=\"1\" class=\"dataframe\">\n",
       "  <thead>\n",
       "    <tr style=\"text-align: right;\">\n",
       "      <th></th>\n",
       "      <th>url</th>\n",
       "      <th>target</th>\n",
       "    </tr>\n",
       "  </thead>\n",
       "  <tbody>\n",
       "    <tr>\n",
       "      <th>0</th>\n",
       "      <td>w-74721.fp.kaspersky-labs.com</td>\n",
       "      <td>0</td>\n",
       "    </tr>\n",
       "    <tr>\n",
       "      <th>1</th>\n",
       "      <td>passport-authproxy.taxi.yandex.net</td>\n",
       "      <td>0</td>\n",
       "    </tr>\n",
       "    <tr>\n",
       "      <th>2</th>\n",
       "      <td>r8---sn-jvhnu5g-n8me.googlevideo.com</td>\n",
       "      <td>0</td>\n",
       "    </tr>\n",
       "    <tr>\n",
       "      <th>3</th>\n",
       "      <td>sonar-gmp1-1.xx.fbcdn.net</td>\n",
       "      <td>0</td>\n",
       "    </tr>\n",
       "    <tr>\n",
       "      <th>4</th>\n",
       "      <td>4wll4l5gec.execute-api.us-west-2.amazonaws.com</td>\n",
       "      <td>0</td>\n",
       "    </tr>\n",
       "  </tbody>\n",
       "</table>\n",
       "</div>"
      ],
      "text/plain": [
       "                                              url  target\n",
       "0                   w-74721.fp.kaspersky-labs.com       0\n",
       "1              passport-authproxy.taxi.yandex.net       0\n",
       "2            r8---sn-jvhnu5g-n8me.googlevideo.com       0\n",
       "3                       sonar-gmp1-1.xx.fbcdn.net       0\n",
       "4  4wll4l5gec.execute-api.us-west-2.amazonaws.com       0"
      ]
     },
     "execution_count": 59,
     "metadata": {},
     "output_type": "execute_result"
    }
   ],
   "source": [
    "guarant_tech['target'] = 0\n",
    "guarant_user['target'] = 1\n",
    "guarant_user.head()\n",
    "data = pd.concat([guarant_tech, guarant_user, undefined_users], ignore_index=True)\n",
    "print(data.shape)\n",
    "data.head()"
   ]
  },
  {
   "cell_type": "code",
   "execution_count": 60,
   "metadata": {
    "pycharm": {
     "name": "#%%\n"
    }
   },
   "outputs": [
    {
     "data": {
      "text/plain": [
       "0    40000\n",
       "1    19598\n",
       "Name: target, dtype: int64"
      ]
     },
     "execution_count": 60,
     "metadata": {},
     "output_type": "execute_result"
    }
   ],
   "source": [
    "tech = data[data['target'] == 0].sample(frac=1).head(40000)\n",
    "user = data[data['target'] == 1]\n",
    "data = pd.concat([tech, user], ignore_index=True).sample(frac=1)\n",
    "\n",
    "data['target'].value_counts()"
   ]
  },
  {
   "cell_type": "code",
   "execution_count": 20,
   "metadata": {
    "pycharm": {
     "name": "#%%\n"
    }
   },
   "outputs": [
    {
     "data": {
      "text/html": [
       "<div>\n",
       "<style scoped>\n",
       "    .dataframe tbody tr th:only-of-type {\n",
       "        vertical-align: middle;\n",
       "    }\n",
       "\n",
       "    .dataframe tbody tr th {\n",
       "        vertical-align: top;\n",
       "    }\n",
       "\n",
       "    .dataframe thead th {\n",
       "        text-align: right;\n",
       "    }\n",
       "</style>\n",
       "<table border=\"1\" class=\"dataframe\">\n",
       "  <thead>\n",
       "    <tr style=\"text-align: right;\">\n",
       "      <th></th>\n",
       "      <th>url</th>\n",
       "      <th>target</th>\n",
       "      <th>len</th>\n",
       "      <th>dots</th>\n",
       "      <th>hyphen</th>\n",
       "      <th>www</th>\n",
       "      <th>numbers</th>\n",
       "    </tr>\n",
       "  </thead>\n",
       "  <tbody>\n",
       "    <tr>\n",
       "      <th>27888</th>\n",
       "      <td>city.travel</td>\n",
       "      <td>1</td>\n",
       "      <td>11</td>\n",
       "      <td>1</td>\n",
       "      <td>0</td>\n",
       "      <td>0</td>\n",
       "      <td>0</td>\n",
       "    </tr>\n",
       "    <tr>\n",
       "      <th>25513</th>\n",
       "      <td>4txt.ru</td>\n",
       "      <td>1</td>\n",
       "      <td>7</td>\n",
       "      <td>1</td>\n",
       "      <td>0</td>\n",
       "      <td>0</td>\n",
       "      <td>1</td>\n",
       "    </tr>\n",
       "    <tr>\n",
       "      <th>38189</th>\n",
       "      <td>snapwidget.com</td>\n",
       "      <td>1</td>\n",
       "      <td>14</td>\n",
       "      <td>1</td>\n",
       "      <td>0</td>\n",
       "      <td>0</td>\n",
       "      <td>0</td>\n",
       "    </tr>\n",
       "    <tr>\n",
       "      <th>12051</th>\n",
       "      <td>cdn1.hype.tech</td>\n",
       "      <td>0</td>\n",
       "      <td>14</td>\n",
       "      <td>2</td>\n",
       "      <td>0</td>\n",
       "      <td>0</td>\n",
       "      <td>1</td>\n",
       "    </tr>\n",
       "    <tr>\n",
       "      <th>31093</th>\n",
       "      <td>turbina.ru</td>\n",
       "      <td>1</td>\n",
       "      <td>10</td>\n",
       "      <td>1</td>\n",
       "      <td>0</td>\n",
       "      <td>0</td>\n",
       "      <td>0</td>\n",
       "    </tr>\n",
       "  </tbody>\n",
       "</table>\n",
       "</div>"
      ],
      "text/plain": [
       "                  url  target  len  dots  hyphen  www  numbers\n",
       "27888     city.travel       1   11     1       0    0        0\n",
       "25513         4txt.ru       1    7     1       0    0        1\n",
       "38189  snapwidget.com       1   14     1       0    0        0\n",
       "12051  cdn1.hype.tech       0   14     2       0    0        1\n",
       "31093      turbina.ru       1   10     1       0    0        0"
      ]
     },
     "execution_count": 20,
     "metadata": {},
     "output_type": "execute_result"
    }
   ],
   "source": [
    "regexp = re.compile(r'\\d')\n",
    "\n",
    "data['len'] = list(map(len, data['url'].values))\n",
    "data['dots'] = list(map(lambda x: x.count('.'), data['url'].values))\n",
    "data['hyphen'] = list(map(lambda x: x.count('-'), data['url'].values))\n",
    "data['www'] = list(map(lambda x: int('www' in x), data['url'].values))\n",
    "data['numbers'] =  list(map(lambda x: sum(c.isdigit() for c in x), data['url'].values))\n",
    "\n",
    "data.head()"
   ]
  },
  {
   "cell_type": "code",
   "execution_count": 71,
   "metadata": {
    "pycharm": {
     "name": "#%%\n"
    }
   },
   "outputs": [
    {
     "data": {
      "text/plain": [
       "<AxesSubplot:>"
      ]
     },
     "execution_count": 71,
     "metadata": {},
     "output_type": "execute_result"
    }
   ],
   "source": [
    "import matplotlib.pyplot as plt\n",
    "\n",
    "words = []\n",
    "url_words = map(lambda x: x.split('.')[:-1], data['url'])\n",
    "url_words = [item for sublist in url_words for item in sublist]\n",
    "url_words = pd.Series(url_words)\n",
    "words_frequency = pd.DataFrame(url_words.value_counts(), columns=['count'])\n",
    "words_frequency.head(10).reset_index().plot.barh(x='index', y='count')\n"
   ]
  },
  {
   "cell_type": "code",
   "execution_count": 22,
   "metadata": {
    "pycharm": {
     "name": "#%%\n"
    }
   },
   "outputs": [
    {
     "name": "stdout",
     "output_type": "stream",
     "text": [
      "['01', '02', '03', '045e', '10', '100', '101', '104', '107', '11', '116', '117', '118', '119', '12', '123', '129', '13', '138_ts', '14', '140', '142', '15', '154', '157', '16', '163', '168', '17', '173', '178_ts', '18', '181', '185', '188', '19', '192', '194', '195', '1c', '20', '202', '203', '205', '21', '212', '213', '216', '217', '219_ts', '22', '224', '23', '233', '24', '240', '242', '244', '248', '25', '250', '252', '254', '26', '29', '2gis', '2mdn', '30', '31', '32', '33', '34', '35', '36', '37', '38', '39', '41', '43', '44', '45', '49', '50', '51', '52', '54', '59', '5ka', '62', '64', '65', '6sekretov', '72', '74', '78', '85', '87', '88', '94', '95', '99', '_dns', '_udp', 'a20a7', 'aa', 'aamsqec', 'abs', 'ac', 'academic', 'academy', 'accesspoint', 'account', 'ad', 'addr', 'adidas', 'admin', 'adr', 'ads', 'adsco', 'aero', 'ahblatp', 'ai', 'aif', 'akadns', 'akama', 'akamai', 'akamaiedge', 'akamaihd', 'akamaized', 'alb', 'alibaba', 'alicdn', 'aliexpress', 'all', 'alpha', 'alternate', 'am', 'amazon', 'amazonaws', 'amnoboe', 'amp', 'ampproject', 'analytics', 'android', 'antkizk', 'ap', 'api', 'app', 'apple', 'apps', 'appspot', 'apteka', 'arpa', 'art', 'asia', 'asna', 'asnycoq', 'assets', 'at', 'ati', 'au', 'auth', 'auto', 'avast', 'avcdn', 'avito', 'avto', 'aws', 'axq7sn7z', 'az', 'azsc', 'azure', 'azureedge', 'b24', 'baidu', 'baouque', 'bcvcdn', 'be', 'beeline', 'bench', 'berezniki', 'best', 'bg', 'bid', 'big', 'biletyplus', 'bilibili', 'bitrix', 'bitrix24', 'biz', 'blablacar', 'blob', 'blog', 'blogspot', 'bnwqcxl', 'bongacams', 'book', 'booking', 'br', 'broker', 'browser', 'bus', 'business', 'buy', 'by', 'byhmzxm', 'bz', 'bzl', 'c190', 'ca', 'cache', 'cafbnqf', 'cafe', 'card', 'cars', 'cbtfylt', 'cc', 'cdek', 'cdn', 'cdn1', 'cdn2', 'cdn3', 'cdn4', 'cdnnow', 'cdnvideo', 'cds', 'ce', 'cedexis', 'center', 'central', 'certum', 'cf', 'ch', 'chat', 'city', 'cjdmbfn', 'cl', 'click', 'client', 'clientnsv4', 'clients', 'clienttons', 'clinic', 'cloud', 'cloudapp', 'cloudflare', 'cloudfront', 'cloudmosa', 'club', 'cm', 'cn', 'cndfdcu', 'co', 'code', 'collector', 'com', 'config', 'connect', 'content', 'core', 'counter', 'courier', 'courier2', 'cpfsolf', 'cprgggy', 'creative', 'credit', 'crimea', 'criteo', 'crm', 'cs', 'cs09', 'cs1', 'cs10', 'cs11', 'csdkbuh', 'cz', 'data', 'dbankcdn', 'dc', 'dcothzr', 'ddsrubz', 'de', 'delivery', 'detxl', 'dev', 'device', 'dfdcjwj', 'dfs', 'didiglobal', 'digift', 'digital', 'disk', 'dkvib11', 'dl', 'dlqmaup', 'dlwmxyd', 'dnkxsay', 'dns', 'do', 'doc', 'docs', 'dom', 'domclick', 'dostavka', 'dotnxdomain', 'doubleclick', 'download', 'drom', 'dropboxusercontent', 'drru', 'ds', 'dscx', 'dsp', 'dualstack', 'dxqiueu', 'dxzmadd', 'dycdbyk', 'dzwuxrt', 'east', 'ecsnmgj', 'edclnay', 'edge', 'edgekey', 'edu', 'ee', 'egwzuzl', 'ekaterinburg', 'ekb', 'ekt', 'elb', 'email', 'en', 'engine', 'eoerkfc', 'ep', 'epcdata', 'es', 'estxqdl', 'eu', 'eu1', 'euno', 'eurochem', 'event', 'events', 'expert', 'express', 'ext', 'ezzpznc', 'f5', 'facebook', 'fastly', 'fayiadd', 'fb', 'fbcdn', 'fe', 'feed', 'fegadcn', 'fi', 'file', 'filed3', 'files', 'filter', 'flashscore', 'floraexpress', 'fls', 'flzcwed', 'fm', 'fmniltb', 'fna', 'forexpros', 'forum', 'foto', 'fr', 'fra002', 'free', 'fun', 'furniprice', 'gallery', 'game', 'gameloft', 'games', 'ganasalas', 'gazeta', 'gbmnc1', 'gcdn', 'gds', 'ge', 'geo', 'get', 'gew1', 'gismeteo', 'github', 'giuwzmh', 'gk', 'global', 'gmtdpuo', 'go', 'gohlmau', 'google', 'googleapis', 'googlesyndication', 'googleusercontent', 'googlevideo', 'gorod', 'gosuslugi', 'gov', 'gr', 'grand', 'greqtkj', 'group', 'gst', 'gstatic', 'guc3', 'guru', 'gvt1', 'harsnic', 'hb', 'hbd', 'hcatcmd', 'health', 'help', 'heugeqm', 'hh', 'hicloud', 'hjajzyz', 'hjjorcw', 'hls', 'hnjnsfr', 'huawei', 'hub', 'hunter', 'hwcdn', 'hyundai', 'i00000000', 'i1', 'i2', 'iavs9x', 'icloud', 'id', 'ietyxrh', 'if', 'iimtjwd', 'ikgsbac', 'im', 'image', 'images', 'img', 'imgix', 'imrworldwide', 'in', 'info', 'init', 'insights', 'instagram', 'interfax', 'internet', 'intl', 'io', 'ios', 'ip', 'ipgbytl', 'iptv', 'ipv6', 'it', 'itunes', 'ivanrakovar', 'ivi', 'ix', 'jimalae', 'jivosite', 'jmqidcg', 'joom', 'journal', 'jp', 'js', 'jvhnu5g', 'jwzsiit', 'jxmlznf', 'jzzoozd', 'kabinet', 'kameleoon', 'kaspersky', 'kazan', 'kg', 'kiajrcx', 'kirov', 'kodik', 'kontur', 'krasnodar', 'krcmcmp', 'kz', 'l1', 'labs', 'lada', 'law', 'lb', 'ldwubwd', 'lenta', 'leroymerlin', 'lhydyta', 'life', 'line', 'link', 'list', 'lite', 'litres', 'live', 'livejournal', 'livetex', 'lk', 'local', 'log', 'login', 'louqzrf', 'love', 'lp', 'ls', 'lv', 'lwqrwys', 'lzxemfc', 'm0', 'm1', 'm10', 'm11', 'm12', 'm13', 'm14', 'm15', 'm16', 'm17', 'm18', 'm19', 'm2', 'm20', 'm21', 'm22', 'm23', 'm24', 'm25', 'm26', 'm27', 'm28', 'm29', 'm3', 'm30', 'm31', 'm32', 'm33', 'm34', 'm35', 'm36', 'm37', 'm38', 'm39', 'm4', 'm40', 'm41', 'm42', 'm5', 'm6', 'm7', 'm8', 'm9', 'mail', 'main', 'makarolls', 'map', 'maps', 'market', 'master', 'match', 'matomo', 'mbib', 'mc', 'md', 'mdt', 'me', 'mebel', 'mecbtbw', 'med', 'media', 'mega', 'megafon', 'meizu', 'mejoresrutas', 'meshzxe', 'messenger', 'metric', 'metrix', 'metro', 'mgsn', 'mi', 'microsoft', 'mir', 'mirkvartir', 'mitdmp', 'miui', 'mjmhchi', 'mk', 'mkeamjf', 'mkfooxg', 'ml', 'mljwibu', 'mobi', 'mobile', 'money', 'mos', 'moscow', 'moskva', 'mp', 'mqtt', 'ms', 'msk', 'msnjizy', 'mts', 'muhkpyk', 'multikland', 'music', 'mxsbgyh', 'my', 'mycdn', 'n8v7kn76', 'n8v7kn7e', 'n8v7kn7k', 'n8v7kn7l', 'n8v7kn7s', 'n8v7snl7', 'n8v7znsd', 'n8v7znsl', 'n8v7znsr', 'n8v7znss', 'n8v7znsz', 'n8v7znz7', 'n8v7znzl', 'na', 'nalog', 'nbryb', 'nedo', 'net', 'new', 'news', 'newsread', 'nflxvideo', 'ngenix', 'nilqdqh', 'nissan', 'nl', 'nlb', 'nn', 'no', 'node', 'northeurope', 'nuid', 'nxgyiia', 'nz', 'oauth', 'oca', 'ocsp', 'of', 'office', 'ofmeawa', 'ok', 'old', 'one', 'online', 'open', 'openx', 'opera', 'ops', 'opt', 'org', 'origin', 'otm', 'ozon', 'p1ai', 'p3', 'p4', 'pa', 'partner', 'partners', 'passport', 'pay', 'pe', 'perm', 'permkrai', 'pfrcsfz', 'ph', 'phpzope', 'picsart', 'pinimg', 'pinriye', 'pinterest', 'pixel', 'pkhxopa', 'pl', 'placehere', 'planeta', 'platform', 'play', 'player', 'plus', 'pops', 'porn', 'porno', 'pornosearch', 'portal', 'postupi', 'press', 'previews', 'pro', 'prod', 'production', 'profi', 'prom', 'promo', 'prosto', 'proxy', 'pt', 'pub', 'public', 'pubmatic', 'pull', 'push', 'pushy', 'pw', 'qgaogho', 'qiwi', 'qkasptx', 'qltmwxx', 'qmheqsg', 'qortfbq', 'qq', 'qtwefsw', 'quiz', 'qykzrsu', 'r1', 'r10', 'r11', 'r12', 'r13', 'r14', 'r15', 'r16', 'r17', 'r18', 'r2', 'r3', 'r4', 'r5', 'r6', 'r7', 'r8', 'r9', 'rabota', 'radar', 'radio', 'rambler', 'rbc', 're', 'readto', 'realpush', 'red', 'redirect', 'reflector', 'regmarkets', 'remont', 'renault', 'res', 'resources', 'ria', 'rlp', 'rlrkafq', 'rn', 'ro', 'rostov', 'rs', 'rsefukf', 'rt', 'rtb', 'rtmp', 'ru', 'rum', 'rus', 'rusneb', 'russia', 'rutarget', 's1', 's3', 's4', 'safeframe', 'samsung', 'satom', 'saykani', 'sber', 'sberbank', 'sc', 'school', 'scontent', 'sd', 'sdamgia', 'sdk', 'se', 'search', 'searn', 'sec', 'secure', 'selcdn', 'sentry', 'server', 'service', 'services', 'sex', 'sexdesant', 'sg', 'sg01', 'shatura', 'shein', 'shina', 'shop', 'si', 'silvermob', 'site', 'sjueebe', 'sk', 'skwstat', 'skype', 'sm', 'smart', 'smartadserver', 'smi', 'sn', 'snr', 'sochi', 'solution', 'sonar', 'sp', 'spac', 'space', 'spb', 'sport', 'spotify', 'sputnik', 'ssl', 'st', 'start', 'stat', 'static', 'stats', 'stcont', 'stoloto', 'storage', 'store', 'stream', 'strm', 'stroy', 'studio', 'style', 'su', 'sunlight', 'support', 'sutochno', 'svc', 'svyaznoy', 'sync', 'synchroncode', 'taobao', 'taxi', 'tcdn', 'tcuslqg', 'tdum', 'team', 'teams', 'teatr', 'tech', 'telegram', 'tepmibk', 'test', 'tgdhtja', 'ti', 'tiktokcdn', 'tilda', 'tinkoff', 'tiu', 'tk', 'tkcisgy', 'tm', 'tnclqjb', 'to', 'tochka', 'today', 'tools', 'top', 'tour', 'tr', 'track', 'tracker', 'tracking', 'trade', 'trafficmanager', 'travel', 'trbcdn', 'trouter', 'trzhibu', 'tt', 'ttvnw', 'tumblr', 'turbo', 'turbopages', 'tutu', 'tv', 'twjgqck', 'tyysecp', 'tzjckqc', 'ua', 'uc', 'udbruff', 'ufa', 'ugzhdzz', 'uhlpeyg', 'uhuuqfn', 'uk', 'unity3d', 'up', 'update', 'upravel', 'ural', 'us', 'userapi', 'uskjrnk', 'ut', 'utorrent', 'uz', 'uzhqgqr', 'v1', 'v4', 'v6exp3', 'va01', 'vb17121coramclean', 'vdn', 'verify', 'vesti', 'viber', 'video', 'vip', 'vivoglobal', 'vk', 'vkuseraudio', 'vkuservideo', 'vl', 'voidboost', 'volgograd', 'vprok', 'vse', 'vtb', 'wbr', 'wcqmked', 'wd', 'wdcrodk', 'web', 'webmoney', 'weborama', 'website', 'wefpoii', 'west', 'westeurope', 'westeuropecns', 'whatsapp', 'whiteboxdigital', 'widget', 'wiki', 'wildberries', 'windows', 'woman', 'woojniy', 'wordpress', 'world', 'ws', 'www', 'xiaomi', 'xml', 'xn', 'xnxx', 'xporn', 'xvideos', 'xx', 'xxx', 'xyz', 'ya', 'yahoo', 'yandex', 'yclients', 'yjdjtzc', 'yjybbcf', 'ynompnn', 'youtube', 'zjubgpi', 'zomulxk', 'zoom', 'zzirlpp']\n"
     ]
    }
   ],
   "source": [
    "from sklearn.feature_extraction.text import CountVectorizer\n",
    "\n",
    "corpus = data['url'].values\n",
    "vectorizer = CountVectorizer(max_features=1000)\n",
    "X = vectorizer.fit_transform(corpus).toarray()\n",
    "print(vectorizer.get_feature_names())"
   ]
  },
  {
   "cell_type": "code",
   "execution_count": 23,
   "metadata": {
    "pycharm": {
     "name": "#%%\n"
    }
   },
   "outputs": [],
   "source": [
    "data = pd.concat([data, pd.DataFrame(X)], axis=1)\n",
    "X = data.drop(['target'], axis=1).drop(['url'], axis=1)\n",
    "y = data['target']"
   ]
  },
  {
   "cell_type": "code",
   "execution_count": 24,
   "metadata": {
    "pycharm": {
     "name": "#%%\n"
    }
   },
   "outputs": [
    {
     "data": {
      "text/html": [
       "<div>\n",
       "<style scoped>\n",
       "    .dataframe tbody tr th:only-of-type {\n",
       "        vertical-align: middle;\n",
       "    }\n",
       "\n",
       "    .dataframe tbody tr th {\n",
       "        vertical-align: top;\n",
       "    }\n",
       "\n",
       "    .dataframe thead th {\n",
       "        text-align: right;\n",
       "    }\n",
       "</style>\n",
       "<table border=\"1\" class=\"dataframe\">\n",
       "  <thead>\n",
       "    <tr style=\"text-align: right;\">\n",
       "      <th></th>\n",
       "      <th>len</th>\n",
       "      <th>dots</th>\n",
       "      <th>hyphen</th>\n",
       "      <th>www</th>\n",
       "      <th>numbers</th>\n",
       "      <th>0</th>\n",
       "      <th>1</th>\n",
       "      <th>2</th>\n",
       "      <th>3</th>\n",
       "      <th>4</th>\n",
       "      <th>...</th>\n",
       "      <th>990</th>\n",
       "      <th>991</th>\n",
       "      <th>992</th>\n",
       "      <th>993</th>\n",
       "      <th>994</th>\n",
       "      <th>995</th>\n",
       "      <th>996</th>\n",
       "      <th>997</th>\n",
       "      <th>998</th>\n",
       "      <th>999</th>\n",
       "    </tr>\n",
       "  </thead>\n",
       "  <tbody>\n",
       "    <tr>\n",
       "      <th>0</th>\n",
       "      <td>15</td>\n",
       "      <td>2</td>\n",
       "      <td>0</td>\n",
       "      <td>0</td>\n",
       "      <td>2</td>\n",
       "      <td>0</td>\n",
       "      <td>0</td>\n",
       "      <td>0</td>\n",
       "      <td>0</td>\n",
       "      <td>0</td>\n",
       "      <td>...</td>\n",
       "      <td>0</td>\n",
       "      <td>0</td>\n",
       "      <td>0</td>\n",
       "      <td>0</td>\n",
       "      <td>0</td>\n",
       "      <td>0</td>\n",
       "      <td>0</td>\n",
       "      <td>0</td>\n",
       "      <td>0</td>\n",
       "      <td>0</td>\n",
       "    </tr>\n",
       "    <tr>\n",
       "      <th>1</th>\n",
       "      <td>15</td>\n",
       "      <td>2</td>\n",
       "      <td>0</td>\n",
       "      <td>0</td>\n",
       "      <td>2</td>\n",
       "      <td>0</td>\n",
       "      <td>0</td>\n",
       "      <td>0</td>\n",
       "      <td>0</td>\n",
       "      <td>0</td>\n",
       "      <td>...</td>\n",
       "      <td>0</td>\n",
       "      <td>0</td>\n",
       "      <td>0</td>\n",
       "      <td>0</td>\n",
       "      <td>0</td>\n",
       "      <td>0</td>\n",
       "      <td>0</td>\n",
       "      <td>0</td>\n",
       "      <td>0</td>\n",
       "      <td>0</td>\n",
       "    </tr>\n",
       "    <tr>\n",
       "      <th>2</th>\n",
       "      <td>64</td>\n",
       "      <td>3</td>\n",
       "      <td>0</td>\n",
       "      <td>0</td>\n",
       "      <td>19</td>\n",
       "      <td>0</td>\n",
       "      <td>0</td>\n",
       "      <td>0</td>\n",
       "      <td>0</td>\n",
       "      <td>0</td>\n",
       "      <td>...</td>\n",
       "      <td>0</td>\n",
       "      <td>0</td>\n",
       "      <td>0</td>\n",
       "      <td>0</td>\n",
       "      <td>0</td>\n",
       "      <td>0</td>\n",
       "      <td>0</td>\n",
       "      <td>0</td>\n",
       "      <td>0</td>\n",
       "      <td>0</td>\n",
       "    </tr>\n",
       "    <tr>\n",
       "      <th>3</th>\n",
       "      <td>26</td>\n",
       "      <td>3</td>\n",
       "      <td>0</td>\n",
       "      <td>0</td>\n",
       "      <td>9</td>\n",
       "      <td>0</td>\n",
       "      <td>0</td>\n",
       "      <td>0</td>\n",
       "      <td>0</td>\n",
       "      <td>0</td>\n",
       "      <td>...</td>\n",
       "      <td>0</td>\n",
       "      <td>0</td>\n",
       "      <td>0</td>\n",
       "      <td>0</td>\n",
       "      <td>0</td>\n",
       "      <td>0</td>\n",
       "      <td>0</td>\n",
       "      <td>0</td>\n",
       "      <td>0</td>\n",
       "      <td>0</td>\n",
       "    </tr>\n",
       "    <tr>\n",
       "      <th>4</th>\n",
       "      <td>13</td>\n",
       "      <td>2</td>\n",
       "      <td>0</td>\n",
       "      <td>0</td>\n",
       "      <td>1</td>\n",
       "      <td>0</td>\n",
       "      <td>0</td>\n",
       "      <td>0</td>\n",
       "      <td>0</td>\n",
       "      <td>0</td>\n",
       "      <td>...</td>\n",
       "      <td>0</td>\n",
       "      <td>0</td>\n",
       "      <td>0</td>\n",
       "      <td>0</td>\n",
       "      <td>0</td>\n",
       "      <td>0</td>\n",
       "      <td>0</td>\n",
       "      <td>0</td>\n",
       "      <td>0</td>\n",
       "      <td>0</td>\n",
       "    </tr>\n",
       "  </tbody>\n",
       "</table>\n",
       "<p>5 rows × 1005 columns</p>\n",
       "</div>"
      ],
      "text/plain": [
       "   len  dots  hyphen  www  numbers  0  1  2  3  4  ...  990  991  992  993  \\\n",
       "0   15     2       0    0        2  0  0  0  0  0  ...    0    0    0    0   \n",
       "1   15     2       0    0        2  0  0  0  0  0  ...    0    0    0    0   \n",
       "2   64     3       0    0       19  0  0  0  0  0  ...    0    0    0    0   \n",
       "3   26     3       0    0        9  0  0  0  0  0  ...    0    0    0    0   \n",
       "4   13     2       0    0        1  0  0  0  0  0  ...    0    0    0    0   \n",
       "\n",
       "   994  995  996  997  998  999  \n",
       "0    0    0    0    0    0    0  \n",
       "1    0    0    0    0    0    0  \n",
       "2    0    0    0    0    0    0  \n",
       "3    0    0    0    0    0    0  \n",
       "4    0    0    0    0    0    0  \n",
       "\n",
       "[5 rows x 1005 columns]"
      ]
     },
     "execution_count": 24,
     "metadata": {},
     "output_type": "execute_result"
    }
   ],
   "source": [
    "X.head()"
   ]
  },
  {
   "cell_type": "code",
   "execution_count": 25,
   "metadata": {
    "pycharm": {
     "name": "#%%\n"
    }
   },
   "outputs": [],
   "source": [
    "from sklearn.naive_bayes import  MultinomialNB\n",
    "from sklearn.model_selection import train_test_split\n",
    "from sklearn.metrics import accuracy_score,precision_score, recall_score, classification_report\n",
    "from sklearn.metrics import confusion_matrix\n",
    "import seaborn as sns"
   ]
  },
  {
   "cell_type": "code",
   "execution_count": 26,
   "metadata": {
    "pycharm": {
     "name": "#%%\n"
    }
   },
   "outputs": [
    {
     "data": {
      "text/plain": [
       "MultinomialNB()"
      ]
     },
     "execution_count": 26,
     "metadata": {},
     "output_type": "execute_result"
    }
   ],
   "source": [
    "X_train, X_test, y_train, y_test = train_test_split(X, y, test_size= 0.2, stratify=y, shuffle=True)\n",
    "\n",
    "multi_clf = MultinomialNB()\n",
    "multi_clf.fit(X_train, y_train)"
   ]
  },
  {
   "cell_type": "code",
   "execution_count": 27,
   "metadata": {
    "pycharm": {
     "name": "#%%\n"
    }
   },
   "outputs": [
    {
     "data": {
      "text/html": [
       "<div>\n",
       "<style scoped>\n",
       "    .dataframe tbody tr th:only-of-type {\n",
       "        vertical-align: middle;\n",
       "    }\n",
       "\n",
       "    .dataframe tbody tr th {\n",
       "        vertical-align: top;\n",
       "    }\n",
       "\n",
       "    .dataframe thead tr th {\n",
       "        text-align: left;\n",
       "    }\n",
       "\n",
       "    .dataframe thead tr:last-of-type th {\n",
       "        text-align: right;\n",
       "    }\n",
       "</style>\n",
       "<table border=\"1\" class=\"dataframe\">\n",
       "  <thead>\n",
       "    <tr>\n",
       "      <th></th>\n",
       "      <th colspan=\"2\" halign=\"left\">len</th>\n",
       "      <th colspan=\"2\" halign=\"left\">dots</th>\n",
       "      <th colspan=\"2\" halign=\"left\">hyphen</th>\n",
       "      <th colspan=\"2\" halign=\"left\">www</th>\n",
       "      <th colspan=\"2\" halign=\"left\">numbers</th>\n",
       "      <th>...</th>\n",
       "      <th colspan=\"2\" halign=\"left\">995</th>\n",
       "      <th colspan=\"2\" halign=\"left\">996</th>\n",
       "      <th colspan=\"2\" halign=\"left\">997</th>\n",
       "      <th colspan=\"2\" halign=\"left\">998</th>\n",
       "      <th colspan=\"2\" halign=\"left\">999</th>\n",
       "    </tr>\n",
       "    <tr>\n",
       "      <th></th>\n",
       "      <th>mean</th>\n",
       "      <th>std</th>\n",
       "      <th>mean</th>\n",
       "      <th>std</th>\n",
       "      <th>mean</th>\n",
       "      <th>std</th>\n",
       "      <th>mean</th>\n",
       "      <th>std</th>\n",
       "      <th>mean</th>\n",
       "      <th>std</th>\n",
       "      <th>...</th>\n",
       "      <th>mean</th>\n",
       "      <th>std</th>\n",
       "      <th>mean</th>\n",
       "      <th>std</th>\n",
       "      <th>mean</th>\n",
       "      <th>std</th>\n",
       "      <th>mean</th>\n",
       "      <th>std</th>\n",
       "      <th>mean</th>\n",
       "      <th>std</th>\n",
       "    </tr>\n",
       "    <tr>\n",
       "      <th>target</th>\n",
       "      <th></th>\n",
       "      <th></th>\n",
       "      <th></th>\n",
       "      <th></th>\n",
       "      <th></th>\n",
       "      <th></th>\n",
       "      <th></th>\n",
       "      <th></th>\n",
       "      <th></th>\n",
       "      <th></th>\n",
       "      <th></th>\n",
       "      <th></th>\n",
       "      <th></th>\n",
       "      <th></th>\n",
       "      <th></th>\n",
       "      <th></th>\n",
       "      <th></th>\n",
       "      <th></th>\n",
       "      <th></th>\n",
       "      <th></th>\n",
       "      <th></th>\n",
       "    </tr>\n",
       "  </thead>\n",
       "  <tbody>\n",
       "    <tr>\n",
       "      <th>0</th>\n",
       "      <td>33.354100</td>\n",
       "      <td>19.363013</td>\n",
       "      <td>2.665050</td>\n",
       "      <td>2.106984</td>\n",
       "      <td>1.05410</td>\n",
       "      <td>1.712869</td>\n",
       "      <td>0.005100</td>\n",
       "      <td>0.071234</td>\n",
       "      <td>8.853800</td>\n",
       "      <td>8.534487</td>\n",
       "      <td>...</td>\n",
       "      <td>0.00025</td>\n",
       "      <td>0.015810</td>\n",
       "      <td>0.000250</td>\n",
       "      <td>0.015810</td>\n",
       "      <td>0.000250</td>\n",
       "      <td>0.015810</td>\n",
       "      <td>0.001000</td>\n",
       "      <td>0.031608</td>\n",
       "      <td>0.000350</td>\n",
       "      <td>0.018705</td>\n",
       "    </tr>\n",
       "    <tr>\n",
       "      <th>1</th>\n",
       "      <td>14.994744</td>\n",
       "      <td>4.592906</td>\n",
       "      <td>1.538626</td>\n",
       "      <td>0.508049</td>\n",
       "      <td>0.20946</td>\n",
       "      <td>0.456126</td>\n",
       "      <td>0.215328</td>\n",
       "      <td>0.411060</td>\n",
       "      <td>0.259312</td>\n",
       "      <td>0.854352</td>\n",
       "      <td>...</td>\n",
       "      <td>0.00051</td>\n",
       "      <td>0.022584</td>\n",
       "      <td>0.000204</td>\n",
       "      <td>0.014285</td>\n",
       "      <td>0.000153</td>\n",
       "      <td>0.012372</td>\n",
       "      <td>0.001378</td>\n",
       "      <td>0.037093</td>\n",
       "      <td>0.000051</td>\n",
       "      <td>0.007143</td>\n",
       "    </tr>\n",
       "  </tbody>\n",
       "</table>\n",
       "<p>2 rows × 2010 columns</p>\n",
       "</div>"
      ],
      "text/plain": [
       "              len                 dots             hyphen                 www  \\\n",
       "             mean        std      mean       std     mean       std      mean   \n",
       "target                                                                          \n",
       "0       33.354100  19.363013  2.665050  2.106984  1.05410  1.712869  0.005100   \n",
       "1       14.994744   4.592906  1.538626  0.508049  0.20946  0.456126  0.215328   \n",
       "\n",
       "                   numbers            ...      995                 996  \\\n",
       "             std      mean       std  ...     mean       std      mean   \n",
       "target                                ...                                \n",
       "0       0.071234  8.853800  8.534487  ...  0.00025  0.015810  0.000250   \n",
       "1       0.411060  0.259312  0.854352  ...  0.00051  0.022584  0.000204   \n",
       "\n",
       "                       997                 998                 999            \n",
       "             std      mean       std      mean       std      mean       std  \n",
       "target                                                                        \n",
       "0       0.015810  0.000250  0.015810  0.001000  0.031608  0.000350  0.018705  \n",
       "1       0.014285  0.000153  0.012372  0.001378  0.037093  0.000051  0.007143  \n",
       "\n",
       "[2 rows x 2010 columns]"
      ]
     },
     "execution_count": 27,
     "metadata": {},
     "output_type": "execute_result"
    }
   ],
   "source": [
    "data.groupby('target').agg(['mean', 'std'])"
   ]
  },
  {
   "cell_type": "code",
   "execution_count": 28,
   "metadata": {
    "pycharm": {
     "name": "#%%\n"
    }
   },
   "outputs": [
    {
     "name": "stdout",
     "output_type": "stream",
     "text": [
      "Accuracy score 0.8534090909090909\n",
      "-----------------------------------------\n",
      "Confusion Matrix\n",
      "[[3079  921]\n",
      " [ 240 3680]]\n",
      "-----------------------------------------\n",
      "Classification Report\n",
      "              precision    recall  f1-score   support\n",
      "\n",
      "           0     0.9277    0.7698    0.8414      4000\n",
      "           1     0.7998    0.9388    0.8637      3920\n",
      "\n",
      "    accuracy                         0.8534      7920\n",
      "   macro avg     0.8638    0.8543    0.8526      7920\n",
      "weighted avg     0.8644    0.8534    0.8524      7920\n",
      "\n"
     ]
    }
   ],
   "source": [
    "print('Accuracy score', accuracy_score(y_test, multi_clf.predict(X_test)))\n",
    "print('-----------------------------------------')\n",
    "print('Confusion Matrix')\n",
    "print(confusion_matrix(y_test, multi_clf.predict(X_test)))\n",
    "print('-----------------------------------------')\n",
    "print('Classification Report')\n",
    "print(classification_report(y_test, multi_clf.predict(X_test), digits=4))"
   ]
  },
  {
   "cell_type": "code",
   "execution_count": 30,
   "metadata": {
    "pycharm": {
     "name": "#%%\n"
    }
   },
   "outputs": [],
   "source": [
    "import pickle\n",
    "pickle.dump(vectorizer, open(\"vector.pickle\", \"wb\"))\n",
    "pickle.dump(multi_clf, open(\"model.pickle\", \"wb\"))"
   ]
  },
  {
   "cell_type": "code",
   "execution_count": 32,
   "metadata": {
    "pycharm": {
     "name": "#%%\n"
    }
   },
   "outputs": [],
   "source": [
    "from xgboost.sklearn import XGBClassifier"
   ]
  },
  {
   "cell_type": "code",
   "execution_count": 33,
   "metadata": {
    "pycharm": {
     "name": "#%%\n"
    }
   },
   "outputs": [
    {
     "name": "stderr",
     "output_type": "stream",
     "text": [
      "/home/vladimir/anaconda3/envs/mtc2/lib/python3.9/site-packages/xgboost/sklearn.py:888: UserWarning: The use of label encoder in XGBClassifier is deprecated and will be removed in a future release. To remove this warning, do the following: 1) Pass option use_label_encoder=False when constructing XGBClassifier object; and 2) Encode your labels (y) as integers starting with 0, i.e. 0, 1, 2, ..., [num_class - 1].\n",
      "  warnings.warn(label_encoder_deprecation_msg, UserWarning)\n"
     ]
    },
    {
     "name": "stdout",
     "output_type": "stream",
     "text": [
      "[10:47:47] WARNING: /tmp/build/80754af9/xgboost-split_1619724447847/work/src/learner.cc:1061: Starting in XGBoost 1.3.0, the default evaluation metric used with the objective 'binary:logistic' was changed from 'error' to 'logloss'. Explicitly set eval_metric if you'd like to restore the old behavior.\n"
     ]
    },
    {
     "data": {
      "text/plain": [
       "XGBClassifier(base_score=0.5, booster='gbtree', colsample_bylevel=1,\n",
       "              colsample_bynode=1, colsample_bytree=1, gamma=0, gpu_id=-1,\n",
       "              importance_type='gain', interaction_constraints='',\n",
       "              learning_rate=0.2, max_delta_step=0, max_depth=4,\n",
       "              min_child_weight=1, missing=nan, monotone_constraints='()',\n",
       "              n_estimators=300, n_jobs=12, num_parallel_tree=1, random_state=0,\n",
       "              reg_alpha=0, reg_lambda=1, scale_pos_weight=1, subsample=1,\n",
       "              tree_method='exact', validate_parameters=1, verbosity=None)"
      ]
     },
     "execution_count": 33,
     "metadata": {},
     "output_type": "execute_result"
    }
   ],
   "source": [
    "model = XGBClassifier(max_depth=4, learning_rate=0.2, n_estimators=300)\n",
    "model.fit(X_train,y_train)"
   ]
  },
  {
   "cell_type": "code",
   "execution_count": 34,
   "metadata": {
    "pycharm": {
     "name": "#%%\n"
    }
   },
   "outputs": [
    {
     "name": "stdout",
     "output_type": "stream",
     "text": [
      "              precision    recall  f1-score   support\n",
      "\n",
      "           0     0.9865    0.9688    0.9775      4000\n",
      "           1     0.9687    0.9865    0.9775      3920\n",
      "\n",
      "    accuracy                         0.9775      7920\n",
      "   macro avg     0.9776    0.9776    0.9775      7920\n",
      "weighted avg     0.9777    0.9775    0.9775      7920\n",
      "\n"
     ]
    }
   ],
   "source": [
    "print(classification_report(y_test, model.predict(X_test), digits=4))\n"
   ]
  },
  {
   "cell_type": "code",
   "execution_count": 36,
   "metadata": {
    "pycharm": {
     "name": "#%%\n"
    }
   },
   "outputs": [],
   "source": [
    "pickle.dump(model, open(\"model.pickle\", \"wb\"))"
   ]
  },
  {
   "cell_type": "code",
   "execution_count": 51,
   "metadata": {
    "pycharm": {
     "name": "#%%\n"
    }
   },
   "outputs": [],
   "source": [
    "import matplotlib as mpl\n",
    "import matplotlib.pyplot as plt\n",
    "import matplotlib.colors as colors\n",
    "\n",
    "data['dop'] = 1\n",
    "group_names = ['user', 'tech']\n",
    "group_colors = ['#F56F45', '#FA7E7E']\n",
    "well = data['dop'].values\n",
    "operations_numb = data['target'].values\n",
    "\n",
    "plt.figure(figsize=(40,20))\n",
    "\n",
    "for i, wn in enumerate(np.unique(well)):\n",
    "    ax = plt.subplot(3, 4, i+1)\n",
    "    hist = np.histogram(operations_numb[well == wn], bins=np.arange(3)+.2)\n",
    "    plt.bar(np.arange(len(hist[0])), hist[0], color=group_colors, align='center')\n",
    "    ax.set_title('Номер площадки: ' + str(wn))\n",
    "    ax.set_xticks(np.arange(len(hist[0])))\n",
    "    ax.set_xticklabels(group_names, rotation=90)"
   ]
  },
  {
   "cell_type": "code",
   "execution_count": 53,
   "metadata": {
    "pycharm": {
     "name": "#%%\n"
    }
   },
   "outputs": [
    {
     "data": {
      "text/plain": [
       "7920"
      ]
     },
     "execution_count": 53,
     "metadata": {},
     "output_type": "execute_result"
    }
   ],
   "source": [
    "len(y_test)"
   ]
  },
  {
   "cell_type": "code",
   "execution_count": 55,
   "metadata": {
    "pycharm": {
     "name": "#%%\n"
    }
   },
   "outputs": [
    {
     "name": "stdout",
     "output_type": "stream",
     "text": [
      "              precision    recall  f1-score   support\n",
      "\n",
      "           0     0.5024    0.4990    0.5007      4000\n",
      "           1     0.4923    0.4957    0.4940      3920\n",
      "\n",
      "    accuracy                         0.4973      7920\n",
      "   macro avg     0.4973    0.4973    0.4973      7920\n",
      "weighted avg     0.4974    0.4973    0.4974      7920\n",
      "\n"
     ]
    }
   ],
   "source": [
    "print(classification_report(y_test, np.random.randint(2, size=len(y_test)), digits=4))\n"
   ]
  },
  {
   "cell_type": "code",
   "execution_count": null,
   "metadata": {
    "pycharm": {
     "name": "#%%\n"
    }
   },
   "outputs": [],
   "source": []
  }
 ],
 "metadata": {
  "kernelspec": {
   "display_name": "Python 3",
   "language": "python",
   "name": "python3"
  },
  "language_info": {
   "codemirror_mode": {
    "name": "ipython",
    "version": 3
   },
   "file_extension": ".py",
   "mimetype": "text/x-python",
   "name": "python",
   "nbconvert_exporter": "python",
   "pygments_lexer": "ipython3",
   "version": "3.8.8"
  }
 },
 "nbformat": 4,
 "nbformat_minor": 1
}